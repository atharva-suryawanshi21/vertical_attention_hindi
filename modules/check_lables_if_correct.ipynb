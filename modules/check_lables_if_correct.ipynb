{
 "cells": [
  {
   "cell_type": "code",
   "execution_count": 5,
   "metadata": {},
   "outputs": [],
   "source": [
    "import pickle\n",
    "import random\n",
    "\n",
    "with open('/home/ironman/atharva/hindi_verti_attn/Datasets/formatted/hindi_paragraph/labels.pkl', 'rb') as f:\n",
    "    data = pickle.load(f)"
   ]
  },
  {
   "cell_type": "code",
   "execution_count": 6,
   "metadata": {},
   "outputs": [],
   "source": [
    "folder = 'valid'\n",
    "\n",
    "keys = data['ground_truth'][folder].keys()\n",
    "random_key = random.choice(list(keys))"
   ]
  },
  {
   "cell_type": "code",
   "execution_count": 7,
   "metadata": {},
   "outputs": [
    {
     "data": {
      "text/plain": [
       "{'text': \"हुई है।कंपनी ने इसके लिए कल एयरटेल टॉकीज लांच किया।५२४. नाचे कू तू तान सेकर दःुनिया राखे मान।हिमधारा विकीप्रेमी की चाह में मिटाया सिन्दूर'आतंकवादी हिंसा के पीछे जो लोग है वह किन मनोस्थितियों में से लगातार गुजर रहे है और आंतकवाद को खत्म करने के लिये राज्य की पहल किन मनोस्तियों में कैसे महज रिपोर्ट और प्रमोशन के ही इर्द-गिर्द घुमने लगी है , और राजनीति सत्ता को बरकरार रखने या सत्ता बनाने का कैसा खेल खेलने लगती है अब यह भी सिनेमायी पर्दे पर उभरने लगा है ।मेरे फ़ैन दिग्विजय सिंह होंगे तो यह मेरे लिए नरक की ही घड़ी होगी।Mitul kumar jain binaजोधा नाम कैसे आया इस पर बहुत जानकारी नही है.डा . विद्यानिवास मिश्र जी ने Foreword लिखा ( दि .ऐसा क्यों है रहा है क्योंकि बीजेपी के पास पीएम उम्मीदवार नरेन्द्र मोदी हैं जबकि कांग्रेस और थर्ड फ्रंट के पास कोई प्रधानमंत्री के उम्मीदवार नहीं है .दूसरा कुछ नहीं बोलते . ज्यादा पेपर पढ़ते हो तो ज्यादा बोलते हो और आपको भ्रम हो जाता है कि मैं महान विचारवंत हूं .पर मूल्यपृष्ठ का शीर्षअन्य व्यक्तियों के साथ मीटिंग शेड्यूल करनावह तो मानव समुद्र था.पहलवान अलबत्ता उन्होंने फिर कभी नहीं बना ए.पाइन, जे.और आप जैसे महान हस्ती\"}"
      ]
     },
     "execution_count": 7,
     "metadata": {},
     "output_type": "execute_result"
    }
   ],
   "source": [
    "data['ground_truth'][folder][random_key]"
   ]
  },
  {
   "cell_type": "code",
   "execution_count": 8,
   "metadata": {},
   "outputs": [],
   "source": [
    "import os\n",
    "from PIL import Image\n",
    "\n",
    "for file in os.listdir(f'/home/ironman/atharva/hindi_verti_attn/Datasets/formatted/hindi_paragraph/{folder}'):\n",
    "    if file == random_key:\n",
    "        img = Image.open(f\"/home/ironman/atharva/hindi_verti_attn/Datasets/formatted/hindi_paragraph/{folder}/{file}\")\n",
    "        img.show(\"dd\")\n",
    "        break\n"
   ]
  },
  {
   "cell_type": "code",
   "execution_count": null,
   "metadata": {},
   "outputs": [],
   "source": []
  }
 ],
 "metadata": {
  "kernelspec": {
   "display_name": "verti_att",
   "language": "python",
   "name": "python3"
  },
  "language_info": {
   "codemirror_mode": {
    "name": "ipython",
    "version": 3
   },
   "file_extension": ".py",
   "mimetype": "text/x-python",
   "name": "python",
   "nbconvert_exporter": "python",
   "pygments_lexer": "ipython3",
   "version": "3.7.12"
  }
 },
 "nbformat": 4,
 "nbformat_minor": 2
}
